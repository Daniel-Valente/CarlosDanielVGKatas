{
 "cells": [
  {
   "cell_type": "markdown",
   "metadata": {},
   "source": [
    "# Kata 9"
   ]
  },
  {
   "cell_type": "markdown",
   "metadata": {},
   "source": [
    "## Ejercicio: Uso de funciones en Python"
   ]
  },
  {
   "cell_type": "markdown",
   "metadata": {},
   "source": [
    "### Ejercicio 1: Trabajar con argumentos en funciones"
   ]
  },
  {
   "cell_type": "markdown",
   "metadata": {},
   "source": [
    "Comienza por crear una función que necesite tres lecturas de combuestibles y devuelva un informe"
   ]
  },
  {
   "cell_type": "code",
   "execution_count": 3,
   "metadata": {},
   "outputs": [],
   "source": [
    "def information_of_tanks(main_tank, extra_tank, reserve_tank):\n",
    "    total_tanks = (main_tank + extra_tank + reserve_tank) / 3\n",
    "    return f\"\"\"average total: {total_tanks}\n",
    "    main tank: {main_tank}%\n",
    "    extra tank: {extra_tank}%\n",
    "    reserve tank: {reserve_tank}%\"\"\""
   ]
  },
  {
   "cell_type": "markdown",
   "metadata": {},
   "source": [
    "Ahora que hemos definido la función de informes, vamos a comprobarlo"
   ]
  },
  {
   "cell_type": "code",
   "execution_count": 8,
   "metadata": {},
   "outputs": [
    {
     "name": "stdout",
     "output_type": "stream",
     "text": [
      "average total: 37.666666666666664\n",
      "    main tank: 8%\n",
      "    extra tank: 25%\n",
      "    reserve tank: 80%\n"
     ]
    }
   ],
   "source": [
    "print(information_of_tanks(8, 25, 80))"
   ]
  },
  {
   "cell_type": "markdown",
   "metadata": {},
   "source": [
    "En lugar de simplemente crear el informe, la función también esta calculando el promedio. Mejora la legibilidad extrayendo el cálculo promedio de la función en una nueva función para que el promedio se pueda hacer de forma independiente"
   ]
  },
  {
   "cell_type": "code",
   "execution_count": 5,
   "metadata": {},
   "outputs": [],
   "source": [
    "def average_of_tanks(main_tank,extra_tank,reserve_tank):\n",
    "    sum = (main_tank + extra_tank + reserve_tank)\n",
    "    total_tanks = sum / 3\n",
    "    return total_tanks\n"
   ]
  },
  {
   "cell_type": "markdown",
   "metadata": {},
   "source": [
    "Ahora actualiza la función de informes para llamando a la nueva función del promedio"
   ]
  },
  {
   "cell_type": "code",
   "execution_count": 7,
   "metadata": {},
   "outputs": [
    {
     "name": "stdout",
     "output_type": "stream",
     "text": [
      "average total: 71.66666666666667\n",
      "    main tank: 80%\n",
      "    extra tank: 85%\n",
      "    reserve tank: 50%\n"
     ]
    }
   ],
   "source": [
    "def information_of_tanks(main_tank, extra_tank, reserve_tank):\n",
    "    return f\"\"\"average total: {average_of_tanks(main_tank, extra_tank, reserve_tank)}\n",
    "    main tank: {main_tank}%\n",
    "    extra tank: {extra_tank}%\n",
    "    reserve tank: {reserve_tank}%\"\"\"\n",
    "\n",
    "print(information_of_tanks(80, 85, 50))"
   ]
  },
  {
   "cell_type": "markdown",
   "metadata": {},
   "source": [
    "## Ejercicio 2: Trabajos con argumentos de palabra clave"
   ]
  },
  {
   "cell_type": "markdown",
   "metadata": {},
   "source": [
    "### Ejercicio: Trabajar con argumentos de palabras clave en funciones"
   ]
  },
  {
   "cell_type": "markdown",
   "metadata": {},
   "source": [
    "Construirás un informe de cohete que requiere varias piezas de información"
   ]
  },
  {
   "cell_type": "code",
   "execution_count": 23,
   "metadata": {},
   "outputs": [
    {
     "name": "stdout",
     "output_type": "stream",
     "text": [
      "Name of your destination: Earth moon\n",
      "Total travel time: 65 minutes\n",
      "Total fuel left: 820000 gallons\n"
     ]
    }
   ],
   "source": [
    "def information_of_mission(prelaunch_time, flight_time, destination, external_tank, inner_tank):\n",
    "    return f\"\"\"Name of your destination: {destination}\n",
    "Total travel time: {prelaunch_time + flight_time} minutes\n",
    "Total fuel left: {inner_tank + external_tank} gallons\"\"\"\n",
    "\n",
    "print(information_of_mission(14,51, 'Earth moon',800000,20000))"
   ]
  },
  {
   "cell_type": "markdown",
   "metadata": {},
   "source": [
    "La función es problemática porque no se puede adaptar para minutos adicionales o tanques adicionales de combuestibles. Hazlo más flexible permitiendo cualquier número de pasos basados en el tiempo y cualquier número de tanques."
   ]
  },
  {
   "cell_type": "code",
   "execution_count": 18,
   "metadata": {},
   "outputs": [
    {
     "name": "stdout",
     "output_type": "stream",
     "text": [
      "\n",
      "    Name of your destination: Earth moon    \n",
      "    Total travel time: 76 minutes\n",
      "    Total fuel left: 8300000 gallons\n"
     ]
    }
   ],
   "source": [
    "def information_of_mission(destination, *minutes, **fuel_reservoirs):\n",
    "    return f\"\"\"Name of your destination: {destination}    \n",
    "Total travel time: {sum(minutes)} minutes\n",
    "Total fuel left: {sum(fuel_reservoirs.values())} gallons\"\"\"\n",
    "\n",
    "    \n",
    "print(information_of_mission('Earth moon',10,15,51,inner=300000,external=8000000))"
   ]
  },
  {
   "cell_type": "markdown",
   "metadata": {},
   "source": [
    "Debido a que el combuestible que queda en los tanques es específico de cada tanque, actualiza la función para usar el nombre de cada tanque en el informe."
   ]
  },
  {
   "cell_type": "code",
   "execution_count": 25,
   "metadata": {},
   "outputs": [
    {
     "name": "stdout",
     "output_type": "stream",
     "text": [
      "Name of your destination: Earth moon    \n",
      "Total travel time: 74 minutes\n",
      "Total fuel left: 800000 gallons \n",
      "main tank 300000 gallons left\n",
      "auxilary tank 500000 gallons left\n",
      "\n"
     ]
    }
   ],
   "source": [
    "def information_of_mission(destination, *minutes, **fuel_reservoirs):\n",
    "    main_report = f\"\"\"Name of your destination: {destination}    \n",
    "Total travel time: {sum(minutes)} minutes\n",
    "Total fuel left: {sum(fuel_reservoirs.values())} gallons \\n\"\"\"\n",
    "\n",
    "    for tank_name, gallons in fuel_reservoirs.items():\n",
    "        main_report += f\"{tank_name} tank {gallons} gallons left\\n\"\n",
    "    \n",
    "    return main_report\n",
    "\n",
    "print(information_of_mission(\"Earth moon\", 8, 11, 55, main=300000, auxilary=500000))"
   ]
  }
 ],
 "metadata": {
  "interpreter": {
   "hash": "6f0920f9ef7f59e17ccc96d8da875b951e76e86128173b329d86346e0dd5811d"
  },
  "kernelspec": {
   "display_name": "Python 3.10.2 64-bit",
   "language": "python",
   "name": "python3"
  },
  "language_info": {
   "codemirror_mode": {
    "name": "ipython",
    "version": 3
   },
   "file_extension": ".py",
   "mimetype": "text/x-python",
   "name": "python",
   "nbconvert_exporter": "python",
   "pygments_lexer": "ipython3",
   "version": "3.10.2"
  },
  "orig_nbformat": 4
 },
 "nbformat": 4,
 "nbformat_minor": 2
}
